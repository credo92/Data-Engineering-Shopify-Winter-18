{
 "cells": [
  {
   "cell_type": "code",
   "execution_count": 129,
   "metadata": {},
   "outputs": [
    {
     "name": "stdout",
     "output_type": "stream",
     "text": [
      "For key : customer_id\n",
      "length of resulting array from Inner Join = 6\n",
      "length of resulting array from leftOuter Join = 7\n",
      "length of resulting array from rightOuter Join = 7\n",
      "length of resulting array from fullOuter Join = 8\n"
     ]
    }
   ],
   "source": [
    "import pandas as pd\n",
    "import os\n",
    "import json\n",
    "import csv\n",
    "os.getcwd()\n",
    "os.chdir('/Users/vipulsrivastav/Downloads/')\n",
    "os.getcwd()\n",
    "\n",
    "def json2csv():\n",
    "    customers_json = open('customers.json').read()\n",
    "    customers_parsed = json.loads(customers_json)\n",
    "    customers_csv = open('customers.csv','w')\n",
    "    writer = csv.writer(customers_csv)\n",
    "    writer.writerow(['cid','name'])   \n",
    "    for item in customers_parsed:\n",
    "        writer.writerow([item['cid'],item['name']])\n",
    "    orders_json = open('orders.json').read()\n",
    "    orders_parsed = json.loads(orders_json)\n",
    "    orders_csv = open('orders.csv','w')\n",
    "    writer = csv.writer(orders_csv)\n",
    "    writer.writerow(['oid','customer_id','name'])   \n",
    "    for item in orders_parsed:\n",
    "        writer.writerow([ item['oid'] , item['customer_id'] , item['price'] ]) \n",
    "    \n",
    "def simpleJoiner(key):\n",
    "    customers_df = pd.read_csv('customers.csv')\n",
    "    orders_df = pd.read_csv('orders.csv')\n",
    "    if key == 'cid':\n",
    "        orders_df.columns = ['oid','cid','name']\n",
    "        print 'For key : ' + key\n",
    "        innerJoin      = pd.merge(customers_df,orders_df, on=key)\n",
    "        leftOuterJoin  = pd.merge(customers_df,orders_df, on=key,how = 'left')\n",
    "        rightOuterJoin = pd.merge(customers_df,orders_df, on=key,how = 'right')\n",
    "        fullOuterJoin  = pd.merge(customers_df,orders_df, on=key,how = 'outer')\n",
    "        print 'length of resulting array from Inner Join = ' + str(len(innerJoin)) \n",
    "        print 'length of resulting array from leftOuter Join  = ' + str(len(leftOuterJoin)) \n",
    "        print 'length of resulting array from rightOuter Join = ' + str(len(rightOuterJoin)) \n",
    "        print 'length of resulting array from fullOuter Join = ' + str(len(fullOuterJoin)) \n",
    "    elif key == 'customer_id':\n",
    "        customers_df.columns = ['customer_id','name']\n",
    "        print 'For key : ' + key\n",
    "        innerJoin      = pd.merge(customers_df,orders_df, on=key)\n",
    "        leftOuterJoin  = pd.merge(customers_df,orders_df, on=key,how = 'left')\n",
    "        rightOuterJoin = pd.merge(customers_df,orders_df, on=key,how = 'right')\n",
    "        fullOuterJoin  = pd.merge(customers_df,orders_df, on=key,how = 'outer')\n",
    "        print 'length of resulting array from Inner Join = ' + str(len(innerJoin)) \n",
    "        print 'length of resulting array from leftOuter Join = ' + str(len(leftOuterJoin)) \n",
    "        print 'length of resulting array from rightOuter Join = ' + str(len(rightOuterJoin)) \n",
    "        print 'length of resulting array from fullOuter Join = ' + str(len(fullOuterJoin)) \n",
    "        \n",
    "    \n",
    "json2csv()\n",
    "simpleJoiner('customer_id')\n",
    "\n"
   ]
  },
  {
   "cell_type": "code",
   "execution_count": null,
   "metadata": {
    "collapsed": true
   },
   "outputs": [],
   "source": []
  },
  {
   "cell_type": "code",
   "execution_count": null,
   "metadata": {
    "collapsed": true
   },
   "outputs": [],
   "source": []
  },
  {
   "cell_type": "code",
   "execution_count": null,
   "metadata": {
    "collapsed": true
   },
   "outputs": [],
   "source": []
  }
 ],
 "metadata": {
  "anaconda-cloud": {},
  "kernelspec": {
   "display_name": "Python 2",
   "language": "python",
   "name": "python2"
  },
  "language_info": {
   "codemirror_mode": {
    "name": "ipython",
    "version": 2
   },
   "file_extension": ".py",
   "mimetype": "text/x-python",
   "name": "python",
   "nbconvert_exporter": "python",
   "pygments_lexer": "ipython2",
   "version": "2.7.13"
  }
 },
 "nbformat": 4,
 "nbformat_minor": 1
}
